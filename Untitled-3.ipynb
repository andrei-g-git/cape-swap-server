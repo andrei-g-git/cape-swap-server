{
 "cells": [
  {
   "cell_type": "code",
   "execution_count": 2,
   "metadata": {},
   "outputs": [
    {
     "name": "stdout",
     "output_type": "stream",
     "text": [
      "Loads checkpoint by local backend from path: mask_rcnn_r50_fpn_mstrain-poly_3x_coco_20210524_201154-21b550bb.pth\n"
     ]
    },
    {
     "name": "stderr",
     "output_type": "stream",
     "text": [
      "c:\\work\\py\\sd_directml\\venv\\lib\\site-packages\\mmengine\\visualization\\visualizer.py:196: UserWarning: Failed to add <class 'mmengine.visualization.vis_backend.LocalVisBackend'>, please provide the `save_dir` argument.\n",
      "  warnings.warn(f'Failed to add {vis_backend.__class__}, '\n"
     ]
    },
    {
     "data": {
      "text/plain": [
       "-1"
      ]
     },
     "execution_count": 2,
     "metadata": {},
     "output_type": "execute_result"
    }
   ],
   "source": [
    "from mmdet.apis import init_detector, inference_detector\n",
    "from mmdet.registry import VISUALIZERS\n",
    "import mmcv\n",
    "import cv2\n",
    "# import torchvision.models as models\n",
    "# maskrcnn_resnet50_fpn = models.detection.maskrcnn_resnet50_fpn(pretrained=True)\n",
    "\n",
    "image_name = '1.jpeg'\n",
    "\n",
    "#config_file = 'rtmdet_tiny_8xb32-300e_coco.py'\n",
    "config_file = 'mask-rcnn_r50_fpn_ms-poly-3x_coco.py'\n",
    "#config_file = 'mask-rcnn_r50-caffe_fpn_ms-poly-3x_coco.py'\n",
    "#checkpoint_file = 'rtmdet_tiny_8xb32-300e_coco_20220902_112414-78e30dcc.pth'\n",
    "checkpoint_file = 'mask_rcnn_r50_fpn_mstrain-poly_3x_coco_20210524_201154-21b550bb.pth'\n",
    "model = init_detector(config_file, checkpoint_file, device='cpu')  # or device='cuda:0'\n",
    "data_sample = inference_detector(model, 'images/' + image_name)\n",
    "\n",
    "visualizer = VISUALIZERS.build(model.cfg.visualizer)\n",
    "visualizer.dataset_meta = model.dataset_meta\n",
    "\n",
    "raw_image = cv2.imread('images/' + image_name)\n",
    "#image = mmcv.imconvert(raw_image, 'bgr', 'rgb')\n",
    "image=raw_image\n",
    "\n",
    "visualizer.add_datasample(\n",
    "    name='result',\n",
    "    image=image,\n",
    "    data_sample=data_sample,\n",
    "    draw_gt=False,\n",
    "    pred_score_thr=0.3,\n",
    "    show=False\n",
    ")\n",
    "\n",
    "image = visualizer.get_image()\n",
    "\n",
    "cv2.imshow('result', image)\n",
    "cv2.waitKey(0)\n",
    "\n",
    "\n",
    "\n",
    "\n",
    "\n",
    "\n",
    "\n",
    "\n"
   ]
  }
 ],
 "metadata": {
  "kernelspec": {
   "display_name": "venv",
   "language": "python",
   "name": "python3"
  },
  "language_info": {
   "codemirror_mode": {
    "name": "ipython",
    "version": 3
   },
   "file_extension": ".py",
   "mimetype": "text/x-python",
   "name": "python",
   "nbconvert_exporter": "python",
   "pygments_lexer": "ipython3",
   "version": "3.10.6"
  }
 },
 "nbformat": 4,
 "nbformat_minor": 2
}
