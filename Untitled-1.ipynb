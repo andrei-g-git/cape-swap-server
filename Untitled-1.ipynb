{
 "cells": [
  {
   "cell_type": "code",
   "execution_count": 3,
   "metadata": {},
   "outputs": [
    {
     "name": "stdout",
     "output_type": "stream",
     "text": [
      "+++\n",
      "+==========\n"
     ]
    },
    {
     "data": {
      "text/plain": [
       "tensor([[[30, 31, 28,  ..., 11,  9,  8],\n",
       "         [33, 28, 31,  ..., 10,  9,  9],\n",
       "         [39, 31, 30,  ...,  9, 10,  8],\n",
       "         ...,\n",
       "         [ 9,  7,  8,  ...,  4,  4,  4],\n",
       "         [ 8,  9,  7,  ...,  5,  4,  4],\n",
       "         [ 8,  9,  8,  ...,  3,  4,  6]],\n",
       "\n",
       "        [[36, 37, 31,  ..., 15, 14, 13],\n",
       "         [39, 34, 34,  ..., 14, 14, 14],\n",
       "         [47, 39, 36,  ..., 13, 15, 13],\n",
       "         ...,\n",
       "         [ 5,  3,  4,  ...,  5,  4,  4],\n",
       "         [ 4,  5,  3,  ...,  6,  5,  5],\n",
       "         [ 4,  5,  4,  ...,  4,  5,  7]],\n",
       "\n",
       "        [[50, 51, 46,  ..., 18, 17, 16],\n",
       "         [53, 48, 49,  ..., 17, 17, 17],\n",
       "         [60, 52, 50,  ..., 16, 18, 16],\n",
       "         ...,\n",
       "         [ 2,  0,  1,  ...,  0,  2,  2],\n",
       "         [ 1,  2,  0,  ...,  1,  0,  0],\n",
       "         [ 1,  2,  1,  ...,  0,  0,  2]]], dtype=torch.uint8)"
      ]
     },
     "execution_count": 3,
     "metadata": {},
     "output_type": "execute_result"
    }
   ],
   "source": [
    "from transformers import SamModel, SamProcessor\n",
    "from PIL import Image\n",
    "from torch import no_grad\n",
    "import cv2\n",
    "import torch\n",
    "from torchvision.utils import draw_segmentation_masks\n",
    "from torchvision.io import read_image\n",
    "\n",
    "\n",
    "\n",
    "\n",
    "\n",
    "model_name = 'facebook/sam-vit-base'\n",
    "sam = SamModel.from_pretrained(model_name).to('cpu')\n",
    "processor = SamProcessor.from_pretrained(model_name)\n",
    "\n",
    "image_path = './images/spiderman.jpg'\n",
    "raw_image = Image.open(image_path).convert('RGB')\n",
    "input_points = [[[256, 256]]]\n",
    "\n",
    "inputs = processor(\n",
    "    raw_image,\n",
    "    input_points=input_points,\n",
    "    return_tensors='pt'\n",
    ")\\\n",
    "    .to('cpu')\n",
    "\n",
    "with no_grad():\n",
    "    outputs = sam(**inputs)\n",
    "\n",
    "masks = processor.image_processor.post_process_masks(\n",
    "    outputs.pred_masks.cpu(),\n",
    "    inputs['original_sizes'].cpu(),\n",
    "    inputs['reshaped_input_sizes'].cpu()\n",
    ")\n",
    "\n",
    "scores = outputs.iou_scores\n",
    "\n",
    "masks[0].shape\n",
    "print('+++')\n",
    "spiderman = read_image('images/spiderman.jpg')\n",
    "msk = torch.reshape(masks[0], (3, 512, 512))\n",
    "print('+==========')\n",
    "#draw_segmentation_masks(spiderman, msk)"
   ]
  }
 ],
 "metadata": {
  "kernelspec": {
   "display_name": "venv",
   "language": "python",
   "name": "python3"
  },
  "language_info": {
   "codemirror_mode": {
    "name": "ipython",
    "version": 3
   },
   "file_extension": ".py",
   "mimetype": "text/x-python",
   "name": "python",
   "nbconvert_exporter": "python",
   "pygments_lexer": "ipython3",
   "version": "3.10.6"
  }
 },
 "nbformat": 4,
 "nbformat_minor": 2
}
